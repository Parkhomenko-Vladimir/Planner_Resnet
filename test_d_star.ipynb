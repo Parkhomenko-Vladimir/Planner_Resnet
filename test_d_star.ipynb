{
 "cells": [
  {
   "cell_type": "code",
   "execution_count": 7,
   "id": "decdb4b5-b57e-4f64-9c21-f8a8b2471209",
   "metadata": {},
   "outputs": [],
   "source": [
    "from ds_class import Dstar\n",
    "import numpy as np\n",
    "import os\n",
    "import gym\n",
    "from Enviroment import Enviroment\n",
    "from gym import spaces\n",
    "import cv2\n",
    "import matplotlib.pyplot as plt\n"
   ]
  },
  {
   "cell_type": "code",
   "execution_count": 8,
   "id": "d0306334-855d-40f9-a3c6-2b2f37635845",
   "metadata": {},
   "outputs": [],
   "source": []
  },
  {
   "cell_type": "code",
   "execution_count": 9,
   "id": "f83b67e5-d44b-4081-bba4-2e0ee987d232",
   "metadata": {},
   "outputs": [],
   "source": []
  },
  {
   "cell_type": "code",
   "execution_count": null,
   "id": "485db9c1-9004-4429-ad6c-aa3aa2e2a721",
   "metadata": {},
   "outputs": [],
   "source": []
  },
  {
   "cell_type": "code",
   "execution_count": 37,
   "id": "0fff2844-174a-42f9-ba2b-676f03377fc3",
   "metadata": {},
   "outputs": [],
   "source": [
    "class CustomEnv(gym.Env):\n",
    "    '''\n",
    "    Оборочивание класса среды в среду gym\n",
    "    '''\n",
    "    metadata = {'render.modes': ['human']}\n",
    "\n",
    "    def __init__(self, obstacle_turn: bool, Total_war: bool, num_obs, num_enemy: int, inp_dim: int,\n",
    "                 size_obs, steps_limit, vizualaze = False, head_velocity = 0.01, rew_col = -70,\n",
    "                 rew_win = 100, rew_defeat = -100 , EnemyLidSet = [120, 120] , AllyLidSet = [50, 90]):\n",
    "        '''\n",
    "        Инициализация класса среды\n",
    "        :param obstacle_turn: (bool) Флаг генерации препятствий\n",
    "        :param vizualaze: (bool) Флаг генерации препятствий\n",
    "        :param Total_war: (bool) Флаг режима игры (с противником или без)\n",
    "        :param steps_limit: (int) Максимальное количество действий в среде за одну игру\n",
    "        '''\n",
    "        self.log_koef = 50\n",
    "        self.ang_Norm_coef = np.pi\n",
    "        self.coords_Norm_coef = 500\n",
    "        self.inp_dim = inp_dim\n",
    "        \n",
    "        # optionEnemy = [120, 120]     # настройки противника [0] - дальность СТЗ; [1] - угол СТЗ (градусы)\n",
    "        # optionAlie = [50, 90]        # настройки союзника [0] - дальность СТЗ; [1] - угол СТЗ (градусы)\n",
    "        \n",
    "        self.obstacle_turn = obstacle_turn\n",
    "        self.Total_war = Total_war\n",
    "        self.num_obs = num_obs\n",
    "        self.num_enemy = num_enemy\n",
    "        self.size_obs = size_obs\n",
    "        self.steps_limit = steps_limit\n",
    "        self.vizualaze = vizualaze\n",
    "        self.head_velocity = head_velocity\n",
    "        self.rew_col = rew_col\n",
    "        self.rew_win = rew_win\n",
    "        self.rew_defeat = rew_defeat\n",
    "        self.EnemyLidSet = EnemyLidSet\n",
    "        self.AllyLidSet = AllyLidSet\n",
    "        \n",
    "        self.enviroment = Enviroment(self.obstacle_turn, self.vizualaze, self.Total_war,\n",
    "                                     self.head_velocity, self.num_obs, self.num_enemy, \n",
    "                                     self.size_obs, self.steps_limit, self.rew_col, \n",
    "                                     self.rew_win, self.rew_defeat, epsilon = 100,\n",
    "                                     sigma = 30, optionEnemy = self.EnemyLidSet, optionAlie = self.AllyLidSet)\n",
    "\n",
    "        self.action_space = spaces.Discrete(8)\n",
    "        self.observation_space = gym.spaces.Dict({\n",
    "                    'img': spaces.Box(low=0, high=255, shape=(self.inp_dim, self.inp_dim, 3), dtype=np.uint8),\n",
    "                    'posRobot': spaces.Box(low=np.array([0, 0,-3.14]), high=np.array([500, 500, 3.14])),\n",
    "                    'target':   spaces.Box(low=np.array([0, 0,-3.14]), high = np.array([500, 500, 3.14]))\n",
    "                                                })\n",
    "\n",
    "        state = self.enviroment.reset()\n",
    "    \n",
    "    def step(self, action):\n",
    "        \"\"\"\n",
    "        Метод осуществления шага в среде\n",
    "        :param action: (int) направление движения в среде\n",
    "        :return: dict_state, reward, not done, {}: состояние, реворд, флаг терминального состояния, информация о среде\n",
    "        \"\"\"\n",
    "        \n",
    "        state, reward, done, numstep = self.enviroment.step(action)\n",
    "        # state.img = cv2.resize(state.img, (self.inp_dim,self.inp_dim))\n",
    "            \n",
    "        x2 = state.posRobot[0]\n",
    "        y2 = state.posRobot[1]\n",
    "    \n",
    "        x4 = state.target[0,0]\n",
    "        y4 = state.target[0,1]\n",
    "        \n",
    "        \n",
    "        f2 =  state.target[0,2]\n",
    "        f2 = np.deg2rad(f2)\n",
    "        \n",
    "        Ax4, Ay4 = -np.cos(f2), np.sin(f2)\n",
    "        Bx24, By24 = x2 - x4, y2 - y4\n",
    "\n",
    "        dist = - np.sqrt(np.abs((x2-x4)**2 + (y2-y4)**2))\n",
    "        phy = (Ax4*Bx24 + Ay4*By24)/(np.sqrt(Ax4**2 + Ay4**2) * np.sqrt(Bx24**2 + By24**2))\n",
    "        reward_l = phy*(dist+500) * 0.01 * (not done) + np.round(reward, 2).sum()\n",
    "\n",
    "        return state, reward_l, done, {}\n",
    "\n",
    "    def reset(self):\n",
    "        '''\n",
    "        Метод обновления игры\n",
    "        :return: dict_state: состояние\n",
    "        '''\n",
    "                \n",
    "        state = self.enviroment.reset()\n",
    "        return state\n",
    "\n",
    "    def render(self, model, num_gifs=1):\n",
    "        '''\n",
    "        Метод вывода информации об игре\n",
    "        :param mode:\n",
    "        :return:\n",
    "        '''\n",
    "        for i in range(num_gifs):\n",
    "            \n",
    "            images = []\n",
    "            obs = self.reset()\n",
    "            img = obs['img']# env.render(mode='rgb_array')\n",
    "            done = False\n",
    "                \n",
    "            height, width, layers = img.shape\n",
    "            size = (width,height)\n",
    "            out = cv2.VideoWriter(f\"video{i}.avi\",cv2.VideoWriter_fourcc(*'DIVX'), 25, size)\n",
    "            img = cv2.cvtColor(img, cv2.COLOR_RGB2BGR)\n",
    "            out.write(img)\n",
    "            while not done:\n",
    "\n",
    "                action, _ = model.predict(obs)\n",
    "                obs, _, done ,_ = self.step(action)\n",
    "                img = obs['img']\n",
    "                img = cv2.cvtColor(img, cv2.COLOR_RGB2BGR)\n",
    "                out.write(img)\n",
    "            out.release()\n",
    "    \n",
    "    def get_statistic(self, model, num_games):\n",
    "        collision = 0\n",
    "        win = 0\n",
    "        destroyed = 0\n",
    "        loss = 0\n",
    "        \n",
    "        pbar = tqdm(range(num_games))\n",
    "        for i in pbar:\n",
    "            obs = self.reset()\n",
    "            done = False\n",
    "            while not done:\n",
    "                action, _ = model.predict(obs)\n",
    "                obs, reward, done ,_ = self.step(action)\n",
    "                \n",
    "            if reward == self.rew_col:#win\n",
    "                collision+=1\n",
    "            elif reward == self.rew_win:# loss\n",
    "                win +=1\n",
    "            elif reward == self.rew_defeat:# loss\n",
    "                destroyed +=1\n",
    "            else:    #not_achieved\n",
    "                loss+=1\n",
    "        \n",
    "        print(\"Win: \",win/num_games)\n",
    "        print(\"destroyed: \", destroyed/num_games)\n",
    "        print(\"loss: \",loss/num_games)\n",
    "        print(\"collision: \",collision/num_games)"
   ]
  },
  {
   "cell_type": "code",
   "execution_count": 44,
   "id": "fda6940e-036d-4d46-83a3-7151acb7c015",
   "metadata": {},
   "outputs": [],
   "source": [
    "env = CustomEnv(obstacle_turn = True,\n",
    "                vizualaze     = True, \n",
    "                Total_war     = True,\n",
    "                inp_dim       = 500,\n",
    "                head_velocity = 0.0,#0.005\n",
    "                num_obs       = 5, \n",
    "                num_enemy     = 1, \n",
    "                size_obs      = [50, 60],\n",
    "                rew_col       = -70,\n",
    "                rew_win       = 100,\n",
    "                rew_defeat    = -100,\n",
    "                steps_limit   = 2000,\n",
    "                EnemyLidSet   = [45,90],\n",
    "                AllyLidSet    = [40, 90])"
   ]
  },
  {
   "cell_type": "code",
   "execution_count": 39,
   "id": "c21636c2-42d8-412c-b920-a6815c2fbc74",
   "metadata": {},
   "outputs": [],
   "source": [
    "# state = env.reset()"
   ]
  },
  {
   "cell_type": "code",
   "execution_count": 50,
   "id": "eff55b61-95bb-4384-afcb-3597d32c8188",
   "metadata": {},
   "outputs": [],
   "source": [
    "direct_dict = {\n",
    "                (0, 1): 6,\n",
    "                (-1, 1): 5,\n",
    "                (-1, 0): 4,\n",
    "                (-1, -1): 3,\n",
    "                (0, -1): 2,\n",
    "                (1, -1): 1,\n",
    "                (1, 0): 0,\n",
    "                (1, 1): 7,\n",
    "            }"
   ]
  },
  {
   "cell_type": "code",
   "execution_count": 51,
   "id": "72a121b6-9b5f-45bb-af4a-079f7f681ee5",
   "metadata": {},
   "outputs": [],
   "source": [
    "def get_height_map(map):\n",
    "    kernel = np.array([[1, 4, 6, 4, 1],\n",
    "                       [4, 16, 24, 16, 4],\n",
    "                       [6, 24, 36, 24, 6],\n",
    "                       [4, 16, 24, 16, 4],\n",
    "                       [1, 4, 6, 4, 1]])\n",
    "    \n",
    "    new_map = cv2.filter2D(map, -1, kernel)\n",
    "    \n",
    "    for i in range(7):\n",
    "        new_map = cv2.filter2D(new_map, -1, kernel)/100\n",
    "        new_map = np.clip(new_map, 0, 65000)\n",
    "    \n",
    "    return new_map"
   ]
  },
  {
   "cell_type": "code",
   "execution_count": null,
   "id": "e958a67a-c951-4f9a-99ea-79428ebef2c6",
   "metadata": {},
   "outputs": [],
   "source": []
  },
  {
   "cell_type": "code",
   "execution_count": null,
   "id": "0ae9d7cd-33bd-428b-9efb-92b7f32537d0",
   "metadata": {},
   "outputs": [],
   "source": []
  },
  {
   "cell_type": "code",
   "execution_count": 52,
   "id": "b2882a36-e40a-4b8a-a251-7488bac4f075",
   "metadata": {},
   "outputs": [
    {
     "name": "stdout",
     "output_type": "stream",
     "text": [
      "5\n",
      "5\n",
      "5\n",
      "5\n",
      "5\n",
      "5\n",
      "5\n",
      "5\n",
      "5\n",
      "5\n",
      "5\n",
      "5\n",
      "7\n",
      "6\n",
      "6\n",
      "6\n",
      "6\n",
      "6\n",
      "6\n",
      "6\n",
      "6\n",
      "6\n",
      "6\n",
      "6\n",
      "6\n",
      "6\n",
      "6\n",
      "6\n",
      "6\n",
      "6\n",
      "6\n",
      "6\n",
      "6\n",
      "6\n",
      "6\n",
      "5\n",
      "5\n",
      "5\n",
      "5\n",
      "5\n",
      "5\n",
      "5\n",
      "5\n",
      "5\n",
      "5\n",
      "5\n",
      "5\n",
      "5\n",
      "5\n",
      "5\n",
      "5\n",
      "4\n",
      "4\n",
      "4\n",
      "4\n",
      "4\n",
      "4\n",
      "4\n"
     ]
    }
   ],
   "source": [
    "done = False\n",
    "state = env.reset()\n",
    "\n",
    "while not done:\n",
    "    heigh_map = get_height_map(state.img_D_star)\n",
    "    d_goal = [int(state.target[0,0]),int(state.target[0,1])]\n",
    "    d_start = [state.posRobot[0],state.posRobot[1]]\n",
    "    \n",
    "    d_star = Dstar(heigh_map, d_goal, d_start, heigh_map)\n",
    "    d_star.Move_plan()\n",
    "    d_star_path = d_star.query(d_start)\n",
    "    \n",
    "    act = direct_dict[tuple(d_star_path[1] - d_star_path[0])]\n",
    "    print(act)\n",
    "    state, rew, done, info = env.step(act)\n",
    "        "
   ]
  },
  {
   "cell_type": "code",
   "execution_count": 28,
   "id": "c8acbd6a-d711-4a72-8453-9c60ab5e8572",
   "metadata": {},
   "outputs": [],
   "source": []
  },
  {
   "cell_type": "code",
   "execution_count": 29,
   "id": "ede8f7a7-c81f-4173-a8fe-4c5f4d539574",
   "metadata": {},
   "outputs": [
    {
     "data": {
      "text/plain": [
       "array([-1, -1])"
      ]
     },
     "execution_count": 29,
     "metadata": {},
     "output_type": "execute_result"
    }
   ],
   "source": [
    "d_star_path[1] - d_star_path[0]"
   ]
  },
  {
   "cell_type": "code",
   "execution_count": 35,
   "id": "ae82020f-c1b4-4d93-8307-b5fe03d5b560",
   "metadata": {},
   "outputs": [
    {
     "data": {
      "text/plain": [
       "3"
      ]
     },
     "execution_count": 35,
     "metadata": {},
     "output_type": "execute_result"
    }
   ],
   "source": [
    "act = direct_dict[tuple(d_star_path[1] - d_star_path[0])]"
   ]
  },
  {
   "cell_type": "code",
   "execution_count": null,
   "id": "d5049bfc-7f0f-49cb-a588-d2bc20da7b35",
   "metadata": {},
   "outputs": [],
   "source": []
  },
  {
   "cell_type": "code",
   "execution_count": null,
   "id": "46120146-4946-407f-b787-8756a2af342a",
   "metadata": {},
   "outputs": [],
   "source": []
  },
  {
   "cell_type": "code",
   "execution_count": null,
   "id": "09c31927-2b3d-450d-b581-71f6f3e6e7a4",
   "metadata": {},
   "outputs": [],
   "source": []
  },
  {
   "cell_type": "code",
   "execution_count": 16,
   "id": "940010b7-8cc6-4ed1-b699-a5bcf54bbb6e",
   "metadata": {},
   "outputs": [],
   "source": []
  },
  {
   "cell_type": "code",
   "execution_count": 8,
   "id": "11b64ae9-934a-4726-9c19-44fca750497c",
   "metadata": {},
   "outputs": [],
   "source": [
    "d_goal = [int(state.target[0,0]),int(state.target[0,1])]\n",
    "d_start = [state.posRobot[0],state.posRobot[1]]\n",
    "\n",
    "dworld = new_map"
   ]
  },
  {
   "cell_type": "code",
   "execution_count": null,
   "id": "5350aefa-6045-4d58-aca7-63e25b817a62",
   "metadata": {},
   "outputs": [],
   "source": []
  },
  {
   "cell_type": "code",
   "execution_count": 9,
   "id": "46140fc2-5b93-49dd-b238-983dc7e18a0d",
   "metadata": {
    "scrolled": true
   },
   "outputs": [],
   "source": [
    "d_star = Dstar(dworld, d_goal, d_start, dworld)\n",
    "d_star.Move_plan()\n",
    "d_star_path = d_star.query(d_start)\n",
    "# print(d_star_path)\n"
   ]
  },
  {
   "cell_type": "code",
   "execution_count": 10,
   "id": "5ed6bc0a-1f9b-43c4-8d13-6b086f158f4f",
   "metadata": {},
   "outputs": [],
   "source": []
  },
  {
   "cell_type": "code",
   "execution_count": 11,
   "id": "3cf83972-4322-45ac-a08c-6d9f26b3a40b",
   "metadata": {},
   "outputs": [],
   "source": []
  },
  {
   "cell_type": "code",
   "execution_count": 12,
   "id": "e8b8fb8f-25e5-48be-86ec-f884b7dd1dd6",
   "metadata": {},
   "outputs": [
    {
     "data": {
      "text/plain": [
       "[<matplotlib.lines.Line2D at 0x7fb1e2dd4df0>]"
      ]
     },
     "execution_count": 12,
     "metadata": {},
     "output_type": "execute_result"
    },
    {
     "data": {
      "image/png": "[encoded data removed]",
      "text/plain": [
       "<Figure size 640x480 with 1 Axes>"
      ]
     },
     "metadata": {},
     "output_type": "display_data"
    }
   ],
   "source": [
    "# plt.imshow(dworld)\n",
    "# plt.plot(x, y)"
   ]
  },
  {
   "cell_type": "code",
   "execution_count": null,
   "id": "de8131c4-3c17-47d2-93f6-936afa9f2728",
   "metadata": {},
   "outputs": [],
   "source": []
  },
  {
   "cell_type": "code",
   "execution_count": null,
   "id": "c37842e8-25cc-41d1-a18c-c1a9d1a27c81",
   "metadata": {},
   "outputs": [],
   "source": []
  },
  {
   "cell_type": "code",
   "execution_count": null,
   "id": "f808e59c-c50a-4fd0-8186-c2365222dbb9",
   "metadata": {},
   "outputs": [],
   "source": []
  },
  {
   "cell_type": "code",
   "execution_count": null,
   "id": "342dcd1b-d931-4264-a6b9-cf6fd5ed2685",
   "metadata": {},
   "outputs": [],
   "source": []
  },
  {
   "cell_type": "code",
   "execution_count": null,
   "id": "1e3c3a40-d9f3-4999-a052-8e1784f73ede",
   "metadata": {},
   "outputs": [],
   "source": []
  },
  {
   "cell_type": "code",
   "execution_count": null,
   "id": "35ed73af-1107-4cb4-9e8d-f5c662e4cdd9",
   "metadata": {},
   "outputs": [],
   "source": []
  },
  {
   "cell_type": "code",
   "execution_count": null,
   "id": "f19fdf7b-e96e-436d-8144-b238670deba3",
   "metadata": {},
   "outputs": [],
   "source": []
  },
  {
   "cell_type": "code",
   "execution_count": null,
   "id": "ff1def27-30c2-42ef-952b-ff3e5f5dfcf5",
   "metadata": {},
   "outputs": [],
   "source": []
  },
  {
   "cell_type": "code",
   "execution_count": null,
   "id": "baf91a72-3e9e-4b6a-ba00-2ebb49dbe654",
   "metadata": {},
   "outputs": [],
   "source": []
  },
  {
   "cell_type": "code",
   "execution_count": null,
   "id": "43073f1f-4bdd-4ddf-af71-ef133828f9c9",
   "metadata": {},
   "outputs": [],
   "source": []
  },
  {
   "cell_type": "code",
   "execution_count": null,
   "id": "615c8e9a-6d2e-42d3-9e77-1624991e88b5",
   "metadata": {},
   "outputs": [],
   "source": []
  },
  {
   "cell_type": "code",
   "execution_count": null,
   "id": "935c93fb-dc94-4e26-a6a3-d6ead2cb56a0",
   "metadata": {},
   "outputs": [],
   "source": []
  },
  {
   "cell_type": "code",
   "execution_count": null,
   "id": "88cb5075-c1ee-4337-b766-d05fcfa402df",
   "metadata": {},
   "outputs": [],
   "source": []
  },
  {
   "cell_type": "code",
   "execution_count": null,
   "id": "a32f2ceb-316a-4f71-abe5-ae7b56346921",
   "metadata": {},
   "outputs": [],
   "source": []
  },
  {
   "cell_type": "code",
   "execution_count": null,
   "id": "0d5303c0-bbfd-4642-97b0-04a4089f4543",
   "metadata": {},
   "outputs": [],
   "source": []
  },
  {
   "cell_type": "code",
   "execution_count": null,
   "id": "579a218b-a0cf-45b9-a468-699390e117a0",
   "metadata": {},
   "outputs": [],
   "source": []
  },
  {
   "cell_type": "code",
   "execution_count": null,
   "id": "0735d16b-17e8-47c6-ada2-6c91fca698c0",
   "metadata": {},
   "outputs": [],
   "source": []
  }
 ],
 "metadata": {
  "kernelspec": {
   "display_name": "Python 3 (ipykernel)",
   "language": "python",
   "name": "python3"
  },
  "language_info": {
   "codemirror_mode": {
    "name": "ipython",
    "version": 3
   },
   "file_extension": ".py",
   "mimetype": "text/x-python",
   "name": "python",
   "nbconvert_exporter": "python",
   "pygments_lexer": "ipython3",
   "version": "3.10.6"
  }
 },
 "nbformat": 4,
 "nbformat_minor": 5
}
