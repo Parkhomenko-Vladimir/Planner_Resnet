{
 "cells": [
  {
   "cell_type": "code",
   "execution_count": 1,
   "metadata": {},
   "outputs": [
    {
     "name": "stderr",
     "output_type": "stream",
     "text": [
      "/home/tatiana/anaconda3/envs/py9/lib/python3.9/site-packages/tqdm/auto.py:22: TqdmWarning: IProgress not found. Please update jupyter and ipywidgets. See https://ipywidgets.readthedocs.io/en/stable/user_install.html\n",
      "  from .autonotebook import tqdm as notebook_tqdm\n"
     ]
    },
    {
     "name": "stdout",
     "output_type": "stream",
     "text": [
      "pygame 2.1.3.dev8 (SDL 2.0.22, Python 3.9.15)\n",
      "Hello from the pygame community. https://www.pygame.org/contribute.html\n"
     ]
    }
   ],
   "source": [
    "import cv2\n",
    "import torch\n",
    "from torchvision.transforms import transforms\n",
    "\n",
    "from Enviroment import Enviroment\n",
    "import cv2\n",
    "import numpy as np"
   ]
  },
  {
   "cell_type": "code",
   "execution_count": 2,
   "metadata": {},
   "outputs": [],
   "source": [
    "env = Enviroment(obstacle=True, Viz=True, War=True,\n",
    "                head_velocity=0.0, num_obs=5, num_enemy=1, \n",
    "                size_obs=[50, 60], m_step=500,\n",
    "                in_collision_rew=-70, in_win_rew=100, in_defeat_rew=-100,\n",
    "                optionEnemy=[45,90], optionAlie=[40, 90],\n",
    "                epsilon = 100, sigma = 30)"
   ]
  },
  {
   "cell_type": "code",
   "execution_count": 3,
   "metadata": {},
   "outputs": [],
   "source": [
    "class Planer():\n",
    "    def __init__(self, path, env):\n",
    "\n",
    "        self.model = torch.load(path, map_location='cuda')\n",
    "        self.env = env\n",
    "        self.transforms = transforms.Compose([transforms.ToTensor()]) #,\n",
    "                 # transforms.Normalize(mean = (0.5), std = (0.5))])\n",
    "        self.model.eval()\n",
    "        \n",
    "        \n",
    "        \n",
    "    def get_statistics(self, num_games):\n",
    "        colision = 0\n",
    "        win = 0\n",
    "        lose = 0\n",
    "        loop = 0\n",
    "        \n",
    "        for game in range(num_games):\n",
    "            \n",
    "            done = False\n",
    "            state = self.env.reset()\n",
    "            img1 = state.img\n",
    "            img2 = state.img\n",
    "            img3 = state.img\n",
    "            Img_final = None\n",
    "            while not done:\n",
    "                \n",
    "                img1 = img2\n",
    "                img2 = img3\n",
    "                img3 = state.img\n",
    "                new_img = cv2.addWeighted(img2, 0.4, img1, 0.2, 0)\n",
    "                Img_final = cv2.addWeighted(img3, 0.7, new_img, 0.5, 0)\n",
    "\n",
    "                # Img_final = cv2.resize(Img_final, (65,65), interpolation = cv2.INTER_AREA)\n",
    "                \n",
    "                # cv2.imwrite('img.png', Img_final)\n",
    "                # img0 = cv2.imread('img.png')\n",
    "\n",
    "                img = self.transforms(Img_final).unsqueeze(0).to('cuda')\n",
    "                model_out = self.model(img)\n",
    "                act = int(torch.argmax(torch.softmax(model_out, dim=1)))\n",
    "\n",
    "                state, rew, done, _ = self.env.step(act)\n",
    "            \n",
    "            if rew[0] == self.env.rew_collision:\n",
    "                colision += 1\n",
    "            elif rew[0] == self.env.rew_defeat:\n",
    "                lose += 1\n",
    "            elif rew[0] == self.env.rew_win:\n",
    "                win += 1\n",
    "            else:\n",
    "                loop += 1\n",
    "                \n",
    "        print(num_games, 'games were played.')\n",
    "        print('win', win/num_games)\n",
    "        print('colision', colision/num_games)\n",
    "        print('loop', loop/num_games)\n",
    "        print('lose', lose/num_games)\n",
    "        \n",
    "    def render(self, num_games):\n",
    "        for i in range(num_games):\n",
    "            \n",
    "            images = []\n",
    "            obs = self.env.reset()\n",
    "            \n",
    "            img1 = obs.img\n",
    "            img2 = obs.img\n",
    "            img3 = obs.img\n",
    "            Img_final = None\n",
    "            img = obs.img # env.render(mode='rgb_array')\n",
    "            done = False\n",
    "                \n",
    "            height, width, layers = img.shape\n",
    "            size = (width,height)\n",
    "            out = cv2.VideoWriter(f\"video{i}.avi\",cv2.VideoWriter_fourcc(*'DIVX'), 25, size)\n",
    "            img = cv2.cvtColor(img, cv2.COLOR_RGB2BGR)\n",
    "            out.write(img)\n",
    "            while not done:\n",
    "                \n",
    "                img1 = img2\n",
    "                img2 = img3\n",
    "                img3 = obs.img\n",
    "                new_img = cv2.addWeighted(img2, 0.4, img1, 0.2, 0)\n",
    "                Img_final = cv2.addWeighted(img3, 0.7, new_img, 0.5, 0)\n",
    "                \n",
    "                # img = cv2.resize(Img_final, (65,65), interpolation = cv2.INTER_AREA)\n",
    "\n",
    "                # cv2.imwrite('img.png', Img_final)\n",
    "                # img0 = cv2.imread('img.png')\n",
    "                \n",
    "                img = self.transforms(Img_final).unsqueeze(0).to('cuda')\n",
    "                \n",
    "                model_out = self.model(img.to('cuda'))\n",
    "                action = int(torch.argmax(torch.softmax(model_out, dim=1)))\n",
    "                obs, _, done ,_ = self.env.step(action)\n",
    "                img = obs.img\n",
    "                img = cv2.cvtColor(img, cv2.COLOR_RGB2BGR)\n",
    "                out.write(img)\n",
    "            out.release()"
   ]
  },
  {
   "cell_type": "code",
   "execution_count": 4,
   "metadata": {},
   "outputs": [],
   "source": [
    "plan = Planer('./res18_lr29',  env=env)"
   ]
  },
  {
   "cell_type": "code",
   "execution_count": 5,
   "metadata": {
    "tags": []
   },
   "outputs": [
    {
     "name": "stdout",
     "output_type": "stream",
     "text": [
      "1000 games were played.\n",
      "win 0.23\n",
      "colision 0.667\n",
      "loop 0.024\n",
      "lose 0.079\n"
     ]
    }
   ],
   "source": [
    "plan.get_statistics(1000)"
   ]
  },
  {
   "cell_type": "code",
   "execution_count": 11,
   "metadata": {},
   "outputs": [],
   "source": [
    "# plan.render(20)"
   ]
  },
  {
   "cell_type": "code",
   "execution_count": null,
   "metadata": {},
   "outputs": [],
   "source": []
  }
 ],
 "metadata": {
  "kernelspec": {
   "display_name": "Python 3 (ipykernel)",
   "language": "python",
   "name": "python3"
  },
  "language_info": {
   "codemirror_mode": {
    "name": "ipython",
    "version": 3
   },
   "file_extension": ".py",
   "mimetype": "text/x-python",
   "name": "python",
   "nbconvert_exporter": "python",
   "pygments_lexer": "ipython3",
   "version": "3.10.6"
  }
 },
 "nbformat": 4,
 "nbformat_minor": 4
}
