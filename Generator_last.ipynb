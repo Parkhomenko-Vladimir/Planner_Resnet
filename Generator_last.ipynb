{
 "cells": [
  {
   "cell_type": "code",
   "execution_count": 1,
   "id": "decdb4b5-b57e-4f64-9c21-f8a8b2471209",
   "metadata": {},
   "outputs": [],
   "source": [
    "from ds_class import Dstar\n",
    "import numpy as np\n",
    "import os\n",
    "import cv2\n",
    "import matplotlib.pyplot as plt\n",
    "import csv\n",
    "from Custom_gym_env import CustomEnv\n",
    "from threading import Thread"
   ]
  },
  {
   "cell_type": "markdown",
   "id": "22b8846c-c628-407c-83b6-ade2b7944207",
   "metadata": {},
   "source": [
    "## Main"
   ]
  },
  {
   "cell_type": "code",
   "execution_count": 2,
   "id": "fda6940e-036d-4d46-83a3-7151acb7c015",
   "metadata": {},
   "outputs": [
    {
     "name": "stderr",
     "output_type": "stream",
     "text": [
      "/home/parkhomenko/PycharmProjects/Medvedev)learning/venv/lib/python3.10/site-packages/gym/spaces/box.py:127: UserWarning: \u001b[33mWARN: Box bound precision lowered by casting to float32\u001b[0m\n",
      "  logger.warn(f\"Box bound precision lowered by casting to {self.dtype}\")\n"
     ]
    }
   ],
   "source": [
    "env = CustomEnv(obstacle_turn = True,\n",
    "                vizualaze     = False, \n",
    "                Total_war     = True,\n",
    "                inp_dim       = 500,\n",
    "                head_velocity = 0.0,#0.005\n",
    "                num_obs       = 5, \n",
    "                num_enemy     = 1, \n",
    "                size_obs      = [50, 60],\n",
    "                rew_col       = -70,\n",
    "                rew_win       = 100,\n",
    "                rew_defeat    = -100,\n",
    "                steps_limit   = 2000,\n",
    "                EnemyLidSet   = [45,90],\n",
    "                AllyLidSet    = [40, 90])"
   ]
  },
  {
   "cell_type": "code",
   "execution_count": 3,
   "id": "eff55b61-95bb-4384-afcb-3597d32c8188",
   "metadata": {},
   "outputs": [],
   "source": [
    "direct_dict = {\n",
    "                (0, 1): 6,\n",
    "                (-1, 1): 5,\n",
    "                (-1, 0): 4,\n",
    "                (-1, -1): 3,\n",
    "                (0, -1): 2,\n",
    "                (1, -1): 1,\n",
    "                (1, 0): 0,\n",
    "                (1, 1): 7,\n",
    "            }"
   ]
  },
  {
   "cell_type": "markdown",
   "id": "ecdf50ef-9564-42d4-a5cf-6d319cbd14e4",
   "metadata": {},
   "source": [
    "### Фильтр для карты высот"
   ]
  },
  {
   "cell_type": "code",
   "execution_count": 4,
   "id": "72a121b6-9b5f-45bb-af4a-079f7f681ee5",
   "metadata": {},
   "outputs": [],
   "source": [
    "def get_height_map(map):\n",
    "    kernel = np.array([[1, 4, 6, 4, 1],\n",
    "                       [4, 16, 24, 16, 4],\n",
    "                       [6, 24, 36, 24, 6],\n",
    "                       [4, 16, 24, 16, 4],\n",
    "                       [1, 4, 6, 4, 1]])\n",
    "    \n",
    "    new_map = cv2.filter2D(map, -1, kernel)\n",
    "    \n",
    "    for i in range(7):\n",
    "        new_map = cv2.filter2D(new_map, -1, kernel)/100\n",
    "        new_map = np.clip(new_map, 0, 65000)\n",
    "    \n",
    "    return new_map"
   ]
  },
  {
   "cell_type": "markdown",
   "id": "c626f8dd-2a77-482a-b389-86ad151e1109",
   "metadata": {},
   "source": [
    "### Делаем папки "
   ]
  },
  {
   "cell_type": "code",
   "execution_count": 5,
   "id": "0ae9d7cd-33bd-428b-9efb-92b7f32537d0",
   "metadata": {},
   "outputs": [],
   "source": [
    "# n_samples = 100000\n",
    "\n",
    "# data_parts = {'train': n_samples * 0.75,\n",
    "#              'test': n_samples * 0.1,\n",
    "#              'val': n_samples * 0.15 }\n",
    "\n",
    "# if not os.path.isdir('train'):\n",
    "#     os.mkdir('train')\n",
    "\n",
    "# if not os.path.isdir('test'):\n",
    "#     os.mkdir('test')\n",
    "    \n",
    "# if not os.path.isdir('val'):\n",
    "#     os.mkdir('val')"
   ]
  },
  {
   "cell_type": "markdown",
   "id": "a109d04b-c655-45e5-9a45-d4956f8a9e58",
   "metadata": {},
   "source": [
    "### Main"
   ]
  },
  {
   "cell_type": "code",
   "execution_count": 6,
   "id": "7943beef-bc52-4e04-9514-0a53d7fbbaa4",
   "metadata": {},
   "outputs": [],
   "source": [
    "\n",
    "def data_generator(falder_name, count_samples):\n",
    "    itr = 0\n",
    "    if not os.path.isdir(falder_name):\n",
    "        os.mkdir(falder_name)\n",
    "    # env init\n",
    "    env = CustomEnv(obstacle_turn = True,\n",
    "                vizualaze     = False, \n",
    "                Total_war     = True,\n",
    "                inp_dim       = 500,\n",
    "                head_velocity = 0.0,#0.005\n",
    "                num_obs       = 5, \n",
    "                num_enemy     = 1, \n",
    "                size_obs      = [50, 60],\n",
    "                rew_col       = -70,\n",
    "                rew_win       = 100,\n",
    "                rew_defeat    = -100,\n",
    "                steps_limit   = 2000,\n",
    "                EnemyLidSet   = [45,90],\n",
    "                AllyLidSet    = [40, 90])\n",
    "\n",
    "    with open(falder_name + '.csv', 'w') as csvfile:\n",
    "        fieldnames = ['path', 'lable']\n",
    "        writer = csv.DictWriter(csvfile, fieldnames=fieldnames)\n",
    "        writer.writeheader()\n",
    "    \n",
    "        while itr < count_samples:    \n",
    "            done = False\n",
    "            state = env.reset()\n",
    "\n",
    "            # img1 = state.img\n",
    "            # img2 = state.img\n",
    "            # img3 = state.img\n",
    "            # Img_final = None\n",
    "            \n",
    "            while not done:\n",
    "                heigh_map = get_height_map(state.img_D_star)\n",
    "                d_goal = [int(state.target[0,0]),int(state.target[0,1])]\n",
    "                d_start = [state.posRobot[0],state.posRobot[1]]\n",
    "                \n",
    "                d_star = Dstar(heigh_map, d_goal, d_start, heigh_map)\n",
    "                d_star.Move_plan()\n",
    "                d_star_path = d_star.query(d_start)\n",
    "                \n",
    "                act = direct_dict[tuple(d_star_path[1] - d_star_path[0])]\n",
    "                # print(act)\n",
    "                state, rew, done, info = env.step(act)\n",
    "        ##########################################################\n",
    "                path = './' + falder_name + '/' + str(itr) + '.png'\n",
    "                itr+=1\n",
    "                writer.writerow({'path': path, 'lable': str(act)})\n",
    "\n",
    "                # img1 = img2\n",
    "                # img2 = img3\n",
    "                # img3 = state.img\n",
    "                # new_img = cv2.addWeighted(img2, 0.4, img1, 0.2, 0)\n",
    "                # Img_final = cv2.addWeighted(img3, 0.7, new_img, 0.5, 0)\n",
    "                # resize\n",
    "                # img = cv2.resize(Img_final, (65,65), interpolation = cv2.INTER_AREA)\n",
    "                \n",
    "                cv2.imwrite(path, state.img)"
   ]
  },
  {
   "cell_type": "code",
   "execution_count": 7,
   "id": "5de87c73-ed83-4b64-93e8-7d412cd5f302",
   "metadata": {},
   "outputs": [],
   "source": [
    "t1 = Thread(target=data_generator,args=('train', 75000))\n",
    "t2 = Thread(target=data_generator,args=('test', 15000))\n",
    "t3 = Thread(target=data_generator,args=('val', 10000))"
   ]
  },
  {
   "cell_type": "code",
   "execution_count": 8,
   "id": "898e56fa-fb65-4277-beb9-89942651ec0c",
   "metadata": {},
   "outputs": [],
   "source": [
    "t1.start()\n",
    "t2.start()\n",
    "t3.start()"
   ]
  },
  {
   "cell_type": "code",
   "execution_count": 9,
   "id": "beff7ae7-361a-4688-9649-5508f4a32928",
   "metadata": {},
   "outputs": [],
   "source": [
    "t1.join()\n",
    "t2.join()\n",
    "t3.join()"
   ]
  },
  {
   "cell_type": "code",
   "execution_count": null,
   "id": "2d981b55-a304-4a0f-8bb0-6439cbf85246",
   "metadata": {},
   "outputs": [],
   "source": []
  },
  {
   "cell_type": "code",
   "execution_count": null,
   "id": "0b1ddd49-806b-4352-9e4a-24c052bb746d",
   "metadata": {},
   "outputs": [],
   "source": []
  },
  {
   "cell_type": "markdown",
   "id": "967f50f5-5f6e-4417-a998-17708d61ecc5",
   "metadata": {},
   "source": [
    "### old loop"
   ]
  },
  {
   "cell_type": "code",
   "execution_count": 10,
   "id": "c9daa815-401f-4b7c-a35a-aa7d7cca61cd",
   "metadata": {},
   "outputs": [],
   "source": [
    "# n_samples = 100000\n",
    "\n",
    "# data_parts = {'train': n_samples * 0.75,\n",
    "#              'test': n_samples * 0.1,\n",
    "#              'val': n_samples * 0.15 }\n",
    "\n",
    "# if not os.path.isdir('train'):\n",
    "#     os.mkdir('train')\n",
    "\n",
    "# if not os.path.isdir('test'):\n",
    "#     os.mkdir('test')\n",
    "    \n",
    "# if not os.path.isdir('val'):\n",
    "#     os.mkdir('val')"
   ]
  },
  {
   "cell_type": "code",
   "execution_count": 11,
   "id": "b2882a36-e40a-4b8a-a251-7488bac4f075",
   "metadata": {},
   "outputs": [],
   "source": [
    "# for part in data_parts.keys():\n",
    "#     itr = 0\n",
    "\n",
    "#     with open(part + '.csv', 'w') as csvfile:\n",
    "#         fieldnames = ['path', 'lable']\n",
    "#         writer = csv.DictWriter(csvfile, fieldnames=fieldnames)\n",
    "#         writer.writeheader()\n",
    "    \n",
    "#         while itr < data_parts[part]:    \n",
    "            \n",
    "#             done = False\n",
    "#             state = env.reset()\n",
    "#             while not done:\n",
    "#                 heigh_map = get_height_map(state.img_D_star)\n",
    "#                 d_goal = [int(state.target[0,0]),int(state.target[0,1])]\n",
    "#                 d_start = [state.posRobot[0],state.posRobot[1]]\n",
    "                \n",
    "#                 d_star = Dstar(heigh_map, d_goal, d_start, heigh_map)\n",
    "#                 d_star.Move_plan()\n",
    "#                 d_star_path = d_star.query(d_start)\n",
    "                \n",
    "#                 act = direct_dict[tuple(d_star_path[1] - d_star_path[0])]\n",
    "#                 # print(act)\n",
    "#                 state, rew, done, info = env.step(act)\n",
    "#         ##########################################################\n",
    "#                 path = './' + part + '/' + str(itr) + '.png'\n",
    "#                 itr+=1\n",
    "#                 writer.writerow({'path': path, 'lable': str(act)})\n",
    "#                 cv2.imwrite(path, state.img)"
   ]
  },
  {
   "cell_type": "code",
   "execution_count": null,
   "id": "c8acbd6a-d711-4a72-8453-9c60ab5e8572",
   "metadata": {},
   "outputs": [],
   "source": []
  },
  {
   "cell_type": "code",
   "execution_count": null,
   "id": "ede8f7a7-c81f-4173-a8fe-4c5f4d539574",
   "metadata": {},
   "outputs": [],
   "source": []
  },
  {
   "cell_type": "code",
   "execution_count": null,
   "id": "ae82020f-c1b4-4d93-8307-b5fe03d5b560",
   "metadata": {},
   "outputs": [],
   "source": []
  },
  {
   "cell_type": "code",
   "execution_count": null,
   "id": "d5049bfc-7f0f-49cb-a588-d2bc20da7b35",
   "metadata": {},
   "outputs": [],
   "source": []
  },
  {
   "cell_type": "code",
   "execution_count": 12,
   "id": "46120146-4946-407f-b787-8756a2af342a",
   "metadata": {},
   "outputs": [],
   "source": [
    "# import csv\n",
    "# with open('example4.csv', 'w') as csvfile:\n",
    "#     fieldnames = ['first_name', 'last_name', 'Grade']\n",
    "#     writer = csv.DictWriter(csvfile, fieldnames=fieldnames)\n",
    "#     writer.writeheader()\n",
    "#     for i in range(10):\n",
    "#         writer.writerow({'Grade': 'B', 'first_name': 'Alex', 'last_name': 'Brian'})\n",
    "\n",
    "# print(\"Writing complete\")"
   ]
  },
  {
   "cell_type": "code",
   "execution_count": null,
   "id": "09c31927-2b3d-450d-b581-71f6f3e6e7a4",
   "metadata": {},
   "outputs": [],
   "source": []
  }
 ],
 "metadata": {
  "kernelspec": {
   "display_name": "Python 3 (ipykernel)",
   "language": "python",
   "name": "python3"
  },
  "language_info": {
   "codemirror_mode": {
    "name": "ipython",
    "version": 3
   },
   "file_extension": ".py",
   "mimetype": "text/x-python",
   "name": "python",
   "nbconvert_exporter": "python",
   "pygments_lexer": "ipython3",
   "version": "3.10.6"
  }
 },
 "nbformat": 4,
 "nbformat_minor": 5
}
